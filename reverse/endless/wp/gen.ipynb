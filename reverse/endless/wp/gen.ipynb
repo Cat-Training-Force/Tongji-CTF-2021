{
 "metadata": {
  "language_info": {
   "codemirror_mode": {
    "name": "ipython",
    "version": 3
   },
   "file_extension": ".py",
   "mimetype": "text/x-python",
   "name": "python",
   "nbconvert_exporter": "python",
   "pygments_lexer": "ipython3",
   "version": "3.8.5"
  },
  "orig_nbformat": 2,
  "kernelspec": {
   "name": "python3",
   "display_name": "Python 3",
   "language": "python"
  }
 },
 "nbformat": 4,
 "nbformat_minor": 2,
 "cells": [
  {
   "cell_type": "code",
   "execution_count": 4,
   "metadata": {},
   "outputs": [
    {
     "output_type": "stream",
     "name": "stdout",
     "text": [
      "[243, 40, 128, 240, 161, 159, 132, 104, 30, 102, 225, 224, 148, 205, 237, 54, 84, 180, 241, 139, 97, 25, 132, 230, 173, 139, 45, 23, 80, 203, 24, 106, 149, 148, 36, 53, 151, 82, 122, 238]\n[4034930931, 1753522081, 3772868126, 921554324, 2347873364, 3867416929, 388860845, 1780009808, 891589781, 4000993943]\n"
     ]
    }
   ],
   "source": [
    "\n",
    "def gen_target():\n",
    "    # tjctf{72b4e6aa7ed510516decd485b1285b8c}\n",
    "    f=[i for i in b'tjctf{cpwpll9adzefd96-s2vs8-m7g6vvgw4x}']+[10]\n",
    "    for i in range(len(f)):\n",
    "        f[i]*=97\n",
    "        f[i]-=1\n",
    "        f[i]^=i\n",
    "        f[i]&=0xff\n",
    "    aa=[]\n",
    "    print(f)\n",
    "    for i in range(0,len(f),4):\n",
    "        aa.append(f[i]+(f[i+1]<<8)+(f[i+2]<<16)+(f[i+3]<<24))\n",
    "    print(aa)\n",
    "gen_target()"
   ]
  },
  {
   "cell_type": "code",
   "execution_count": 15,
   "metadata": {},
   "outputs": [
    {
     "output_type": "stream",
     "name": "stdout",
     "text": [
      "void fv100(){while(ptrace(PTRACE_TRACEME, 0)<0){}}\nvoid fv99(){fv100();}\nvoid fv98(){fv99();}\nvoid fv97(){fv98();}\nvoid fv96(){fv97();}\nvoid fv95(){fv96();}\nvoid fv94(){fv95();}\nvoid fv93(){fv94();}\nvoid fv92(){fv93();}\nvoid fv91(){fv92();}\nvoid fv90(){fv91();}\nvoid fv89(){fv90();}\nvoid fv88(){fv89();}\nvoid fv87(){fv88();}\nvoid fv86(){fv87();}\nvoid fv85(){fv86();}\nvoid fv84(){fv85();}\nvoid fv83(){fv84();}\nvoid fv82(){fv83();}\nvoid fv81(){fv82();}\nvoid fv80(){fv81();}\nvoid fv79(){fv80();}\nvoid fv78(){fv79();}\nvoid fv77(){fv78();}\nvoid fv76(){fv77();}\nvoid fv75(){fv76();}\nvoid fv74(){fv75();}\nvoid fv73(){fv74();}\nvoid fv72(){fv73();}\nvoid fv71(){fv72();}\nvoid fv70(){fv71();}\nvoid fv69(){fv70();}\nvoid fv68(){fv69();}\nvoid fv67(){fv68();}\nvoid fv66(){fv67();}\nvoid fv65(){fv66();}\nvoid fv64(){fv65();}\nvoid fv63(){fv64();}\nvoid fv62(){fv63();}\nvoid fv61(){fv62();}\nvoid fv60(){fv61();}\nvoid fv59(){fv60();}\nvoid fv58(){fv59();}\nvoid fv57(){fv58();}\nvoid fv56(){fv57();}\nvoid fv55(){fv56();}\nvoid fv54(){fv55();}\nvoid fv53(){fv54();}\nvoid fv52(){fv53();}\nvoid fv51(){fv52();}\nvoid fv50(){fv51();}\nvoid fv49(){fv50();}\nvoid fv48(){fv49();}\nvoid fv47(){fv48();}\nvoid fv46(){fv47();}\nvoid fv45(){fv46();}\nvoid fv44(){fv45();}\nvoid fv43(){fv44();}\nvoid fv42(){fv43();}\nvoid fv41(){fv42();}\nvoid fv40(){fv41();}\nvoid fv39(){fv40();}\nvoid fv38(){fv39();}\nvoid fv37(){fv38();}\nvoid fv36(){fv37();}\nvoid fv35(){fv36();}\nvoid fv34(){fv35();}\nvoid fv33(){fv34();}\nvoid fv32(){fv33();}\nvoid fv31(){fv32();}\nvoid fv30(){fv31();}\nvoid fv29(){fv30();}\nvoid fv28(){fv29();}\nvoid fv27(){fv28();}\nvoid fv26(){fv27();}\nvoid fv25(){fv26();}\nvoid fv24(){fv25();}\nvoid fv23(){fv24();}\nvoid fv22(){fv23();}\nvoid fv21(){fv22();}\nvoid fv20(){fv21();}\nvoid fv19(){fv20();}\nvoid fv18(){fv19();}\nvoid fv17(){fv18();}\nvoid fv16(){fv17();}\nvoid fv15(){fv16();}\nvoid fv14(){fv15();}\nvoid fv13(){fv14();}\nvoid fv12(){fv13();}\nvoid fv11(){fv12();}\nvoid fv10(){fv11();}\nvoid fv9(){fv10();}\nvoid fv8(){fv9();}\nvoid fv7(){fv8();}\nvoid fv6(){fv7();}\nvoid fv5(){fv6();}\nvoid fv4(){fv5();}\nvoid fv3(){fv4();}\nvoid fv2(){fv3();}\nvoid fv1(){fv2();}\nvoid fv0(){fv1();}\n\nchar fc100(char c){return ptrace(PTRACE_TRACEME, 0);}\nchar fc99(char c){return c+fc100(c);}\nchar fc98(char c){return c+fc99(c);}\nchar fc97(char c){return c+fc98(c);}\nchar fc96(char c){return c+fc97(c);}\nchar fc95(char c){return c+fc96(c);}\nchar fc94(char c){return c+fc95(c);}\nchar fc93(char c){return c+fc94(c);}\nchar fc92(char c){return c+fc93(c);}\nchar fc91(char c){return c+fc92(c);}\nchar fc90(char c){return c+fc91(c);}\nchar fc89(char c){return c+fc90(c);}\nchar fc88(char c){return c+fc89(c);}\nchar fc87(char c){return c+fc88(c);}\nchar fc86(char c){return c+fc87(c);}\nchar fc85(char c){return c+fc86(c);}\nchar fc84(char c){return c+fc85(c);}\nchar fc83(char c){return c+fc84(c);}\nchar fc82(char c){return c+fc83(c);}\nchar fc81(char c){return c+fc82(c);}\nchar fc80(char c){return c+fc81(c);}\nchar fc79(char c){return c+fc80(c);}\nchar fc78(char c){return c+fc79(c);}\nchar fc77(char c){return c+fc78(c);}\nchar fc76(char c){return c+fc77(c);}\nchar fc75(char c){return c+fc76(c);}\nchar fc74(char c){return c+fc75(c);}\nchar fc73(char c){return c+fc74(c);}\nchar fc72(char c){return c+fc73(c);}\nchar fc71(char c){return c+fc72(c);}\nchar fc70(char c){return c+fc71(c);}\nchar fc69(char c){return c+fc70(c);}\nchar fc68(char c){return c+fc69(c);}\nchar fc67(char c){return c+fc68(c);}\nchar fc66(char c){return c+fc67(c);}\nchar fc65(char c){return c+fc66(c);}\nchar fc64(char c){return c+fc65(c);}\nchar fc63(char c){return c+fc64(c);}\nchar fc62(char c){return c+fc63(c);}\nchar fc61(char c){return c+fc62(c);}\nchar fc60(char c){return c+fc61(c);}\nchar fc59(char c){return c+fc60(c);}\nchar fc58(char c){return c+fc59(c);}\nchar fc57(char c){return c+fc58(c);}\nchar fc56(char c){return c+fc57(c);}\nchar fc55(char c){return c+fc56(c);}\nchar fc54(char c){return c+fc55(c);}\nchar fc53(char c){return c+fc54(c);}\nchar fc52(char c){return c+fc53(c);}\nchar fc51(char c){return c+fc52(c);}\nchar fc50(char c){return c+fc51(c);}\nchar fc49(char c){return c+fc50(c);}\nchar fc48(char c){return c+fc49(c);}\nchar fc47(char c){return c+fc48(c);}\nchar fc46(char c){return c+fc47(c);}\nchar fc45(char c){return c+fc46(c);}\nchar fc44(char c){return c+fc45(c);}\nchar fc43(char c){return c+fc44(c);}\nchar fc42(char c){return c+fc43(c);}\nchar fc41(char c){return c+fc42(c);}\nchar fc40(char c){return c+fc41(c);}\nchar fc39(char c){return c+fc40(c);}\nchar fc38(char c){return c+fc39(c);}\nchar fc37(char c){return c+fc38(c);}\nchar fc36(char c){return c+fc37(c);}\nchar fc35(char c){return c+fc36(c);}\nchar fc34(char c){return c+fc35(c);}\nchar fc33(char c){return c+fc34(c);}\nchar fc32(char c){return c+fc33(c);}\nchar fc31(char c){return c+fc32(c);}\nchar fc30(char c){return c+fc31(c);}\nchar fc29(char c){return c+fc30(c);}\nchar fc28(char c){return c+fc29(c);}\nchar fc27(char c){return c+fc28(c);}\nchar fc26(char c){return c+fc27(c);}\nchar fc25(char c){return c+fc26(c);}\nchar fc24(char c){return c+fc25(c);}\nchar fc23(char c){return c+fc24(c);}\nchar fc22(char c){return c+fc23(c);}\nchar fc21(char c){return c+fc22(c);}\nchar fc20(char c){return c+fc21(c);}\nchar fc19(char c){return c+fc20(c);}\nchar fc18(char c){return c+fc19(c);}\nchar fc17(char c){return c+fc18(c);}\nchar fc16(char c){return c+fc17(c);}\nchar fc15(char c){return c+fc16(c);}\nchar fc14(char c){return c+fc15(c);}\nchar fc13(char c){return c+fc14(c);}\nchar fc12(char c){return c+fc13(c);}\nchar fc11(char c){return c+fc12(c);}\nchar fc10(char c){return c+fc11(c);}\nchar fc9(char c){return c+fc10(c);}\nchar fc8(char c){return c+fc9(c);}\nchar fc7(char c){return c+fc8(c);}\nchar fc6(char c){return c+fc7(c);}\nchar fc5(char c){return c+fc6(c);}\nchar fc4(char c){return c+fc5(c);}\nchar fc3(char c){return c+fc4(c);}\nchar fc2(char c){return c+fc3(c);}\nchar fc1(char c){return c+fc2(c);}\nchar fc0(char c){return c+fc1(c);}\n"
     ]
    }
   ],
   "source": [
    "def gen_call():\n",
    "    print('void fv100(){while(ptrace(PTRACE_TRACEME, 0)<0){}}')\n",
    "    for i in range(99,-1,-1):\n",
    "        print('void fv%d(){fv%d();}'%(i,i+1))\n",
    "    print()\n",
    "    print('char fc100(char c){return ptrace(PTRACE_TRACEME, 0);}')\n",
    "    for i in range(99,-1,-1):\n",
    "        print('char fc%d(char c){return c+fc%d(c);}'%(i,i+1))\n",
    "gen_call()"
   ]
  },
  {
   "cell_type": "code",
   "execution_count": 30,
   "metadata": {},
   "outputs": [
    {
     "output_type": "stream",
     "name": "stdout",
     "text": [
      "cpwpll9adzefd96-s2vs8-m7g6vvgw4x\n"
     ]
    }
   ],
   "source": [
    "def gen_flag():\n",
    "    import random\n",
    "    s=[chr(48+i) for i in range(10)]+[chr(97+i) for i in range(26)]+['-','_']\n",
    "    print(''.join(random.choice(s) for i in range(39-7)))\n",
    "gen_flag()"
   ]
  },
  {
   "cell_type": "code",
   "execution_count": null,
   "metadata": {},
   "outputs": [],
   "source": []
  }
 ]
}