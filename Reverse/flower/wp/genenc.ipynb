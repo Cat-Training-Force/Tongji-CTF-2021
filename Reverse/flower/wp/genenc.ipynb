{
 "metadata": {
  "language_info": {
   "codemirror_mode": {
    "name": "ipython",
    "version": 3
   },
   "file_extension": ".py",
   "mimetype": "text/x-python",
   "name": "python",
   "nbconvert_exporter": "python",
   "pygments_lexer": "ipython3",
   "version": "3.8.5"
  },
  "orig_nbformat": 2,
  "kernelspec": {
   "name": "python3",
   "display_name": "Python 3",
   "language": "python"
  }
 },
 "nbformat": 4,
 "nbformat_minor": 2,
 "cells": [
  {
   "cell_type": "code",
   "execution_count": 7,
   "metadata": {},
   "outputs": [
    {
     "output_type": "stream",
     "name": "stdout",
     "text": [
      "['0x6a', '0x75', '0x73', '0x74', '0x5f', '0x6b', '0x65', '0x79']\n[30, 31, 16, 0, 57, 16, 0, 55, 32, 69, 10, 43, 7, 91, 23, 38, 29, 60, 68, 60, 0, 13, 9, 73, 29, 70, 1, 43, 14, 28, 52, 4]\n"
     ]
    }
   ],
   "source": [
    "from Crypto.Util.number import long_to_bytes\n",
    "def gen_enc():\n",
    "    f=[i for i in b'tjctf{eNJ0y_X0r_wI7H_fl0w3r_QwQ}']\n",
    "    key=0x79656b5f7473756a\n",
    "    key=long_to_bytes(key)[::-1]\n",
    "    print([hex(i) for i in key])\n",
    "    for i in range(len(f)):\n",
    "        f[i]^=key[i%8]\n",
    "    print(f)\n",
    "gen_enc()"
   ]
  },
  {
   "cell_type": "code",
   "execution_count": null,
   "metadata": {},
   "outputs": [],
   "source": []
  }
 ]
}